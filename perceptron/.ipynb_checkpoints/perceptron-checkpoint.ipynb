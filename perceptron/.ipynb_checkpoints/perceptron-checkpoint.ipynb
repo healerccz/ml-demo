{
 "cells": [
  {
   "cell_type": "code",
   "execution_count": 37,
   "metadata": {
    "scrolled": false
   },
   "outputs": [],
   "source": [
    "\"\"\"\n",
    "perceptron\n",
    "@author: Zhao Chengcheng\n",
    "@stu_id: 3120305365\n",
    "\"\"\"\n",
    "\n",
    "import numpy as np\n",
    "import matplotlib.pyplot as plt\n",
    "\n",
    "\n",
    "def get_data(num):\n",
    "    \"\"\"\n",
    "    随机生成数据\n",
    "    @param num: 数据条数\n",
    "    @return: 生成的数据， data 是点的坐标，label是每个点的标签，为：-1 或 +1\n",
    "    \"\"\"\n",
    "    data = [] # 存放随机生成的坐标 Xn\n",
    "    label = [] # 存放数据的标签， -1 或者 +1\n",
    "    x1 = np.random.normal(2, 0.8, int(num / 2))\n",
    "    y1 = np.random.normal(2, 0.8, int(num / 2))\n",
    "    x2 = np.random.normal(6, 0.8, int(num / 2))\n",
    "    y2 = np.random.normal(6, 0.8, int(num / 2))\n",
    "    for i in range(num):\n",
    "        if i < num / 2:\n",
    "            data.append([x1[i], y1[i]])\n",
    "            label.append(-1)\n",
    "        else:\n",
    "            data.append([x2[int(i - num / 2)], y2[int(i - num / 2)]])\n",
    "            label.append(1)\n",
    "    return data, label\n",
    "\n",
    "\n",
    "def perceptron(data, label, eta):\n",
    "    \"\"\"\n",
    "    训练感知机\n",
    "    @param data: 包含坐标的数据\n",
    "    @param label: 数据的标签 -1 或者 +1\n",
    "    @param eta: 学习率\n",
    "    @return: 超平面的参数，x 是横截距，y是纵截距\n",
    "    \"\"\"\n",
    "    w = [0., 1.0] # 直线 x 和 y 的系数\n",
    "    b = 0.\n",
    "    separated = False # 标记是否已将点完全分离\n",
    "    while not separated:\n",
    "        separated = True\n",
    "        for i in range(len(data)):\n",
    "            if label[i] * (w[0] * data[i][0] + w[1] * data[i][1] + b) <= 0:\n",
    "                separated = False # 没有完全分离\n",
    "                w[0] += eta * label[i] * data[i][0] # 更新 w 的值\n",
    "                w[1] += eta * label[i] * data[i][1]\n",
    "                b += eta * label[i] # 更新 b 的值\n",
    "\n",
    "    x = -b / w[0]\n",
    "    y = -b / w[1]\n",
    "    return x, y, w[0], w[1], b\n",
    "\n",
    "\n",
    "def plot(data, label, x, y): # 画图\n",
    "    plt.rcParams['font.sans-serif'] = ['SimHei'] # 设置字体\n",
    "    plt.rcParams['axes.unicode_minus'] = False\n",
    "\n",
    "    plt.xlabel('X')\n",
    "    plt.ylabel('Y')\n",
    "    plt.xlim(xmax=9, xmin=0)\n",
    "    plt.ylim(ymax=9, ymin=0)\n",
    "    area = np.pi * 2 ** 2\n",
    "\n",
    "    data_mat = np.array(data)\n",
    "    X = data_mat[:, 0]\n",
    "    Y = data_mat[:, 1]\n",
    "    for i in range(len(label)):\n",
    "        if label[i] > 0:\n",
    "            plt.scatter(X[i].tolist(), Y[i].tolist(), s=area, color='red')\n",
    "        else:\n",
    "            plt.scatter(X[i].tolist(), Y[i].tolist(), s=area, color='green')\n",
    "    plt.plot([0, x], [y, 0])\n",
    "    plt.show()\n",
    "\n",
    "\n",
    "\n",
    "\n",
    "\n"
   ]
  },
  {
   "cell_type": "code",
   "execution_count": 38,
   "metadata": {},
   "outputs": [],
   "source": [
    "data, label = get_data(20) # 随机生成数据，参数为要生成的数据条数\n"
   ]
  },
  {
   "cell_type": "code",
   "execution_count": 39,
   "metadata": {},
   "outputs": [
    {
     "data": {
      "image/png": "[encoded data removed]",
      "text/plain": [
       "<Figure size 432x288 with 1 Axes>"
      ]
     },
     "metadata": {
      "needs_background": "light"
     },
     "output_type": "display_data"
    }
   ],
   "source": [
    "x, y, w0, w1, b = perceptron(data, label, 0.01) # 训练感知机，获得超平面参数，x:横截距，y：纵截距\n",
    "plot(data, label, x, y)"
   ]
  },
  {
   "cell_type": "code",
   "execution_count": 40,
   "metadata": {},
   "outputs": [
    {
     "data": {
      "text/plain": [
       "[[0.3026274051270561, -0.3075910541087814],\n",
       " [2.5172066626827454, 2.063612753329623],\n",
       " [2.0924777676856317, 2.6632083684095758],\n",
       " [3.200663002434278, 2.0095897967155105],\n",
       " [3.099417612202215, 3.0030346059042285],\n",
       " [2.528384182289254, 2.500700432239033],\n",
       " [2.264731829819915, 2.4748799392328493],\n",
       " [2.837004030168929, 3.2803440014145746],\n",
       " [2.437469539039915, 2.755906098217893],\n",
       " [2.130055461616294, 2.385690105547967],\n",
       " [5.623612268211531, 5.978376818542241],\n",
       " [4.680444937971005, 6.584425805445428],\n",
       " [7.377733658445314, 5.829331848347764],\n",
       " [5.716320427126973, 6.7290486331512485],\n",
       " [5.493628487735948, 4.901285163126963],\n",
       " [6.868488994649093, 5.782418289941445],\n",
       " [6.507954384336564, 6.0590398439707],\n",
       " [7.275448549364237, 6.045536221771095],\n",
       " [4.929813746513807, 5.20587193049313],\n",
       " [6.991739576888998, 5.060397360289127]]"
      ]
     },
     "execution_count": 40,
     "metadata": {},
     "output_type": "execute_result"
    }
   ],
   "source": [
    "data"
   ]
  },
  {
   "cell_type": "code",
   "execution_count": 41,
   "metadata": {},
   "outputs": [
    {
     "data": {
      "text/plain": [
       "-0.10058179712188296"
      ]
     },
     "execution_count": 41,
     "metadata": {},
     "output_type": "execute_result"
    }
   ],
   "source": [
    "w0"
   ]
  },
  {
   "cell_type": "code",
   "execution_count": 42,
   "metadata": {},
   "outputs": [
    {
     "data": {
      "text/plain": [
       "0.27799067797429855"
      ]
     },
     "execution_count": 42,
     "metadata": {},
     "output_type": "execute_result"
    }
   ],
   "source": [
    "w1"
   ]
  },
  {
   "cell_type": "code",
   "execution_count": 43,
   "metadata": {},
   "outputs": [
    {
     "data": {
      "text/plain": [
       "-0.6800000000000004"
      ]
     },
     "execution_count": 43,
     "metadata": {},
     "output_type": "execute_result"
    }
   ],
   "source": [
    "b"
   ]
  },
  {
   "cell_type": "code",
   "execution_count": 48,
   "metadata": {},
   "outputs": [
    {
     "data": {
      "text/plain": [
       "[6.991739576888998, 5.060397360289127]"
      ]
     },
     "execution_count": 48,
     "metadata": {},
     "output_type": "execute_result"
    }
   ],
   "source": [
    "data[19]"
   ]
  },
  {
   "cell_type": "code",
   "execution_count": 49,
   "metadata": {},
   "outputs": [
    {
     "data": {
      "text/plain": [
       "0.023501561354435596"
      ]
     },
     "execution_count": 49,
     "metadata": {},
     "output_type": "execute_result"
    }
   ],
   "source": [
    "data[19][0]*w0+data[19][1]*w1+b"
   ]
  },
  {
   "cell_type": "code",
   "execution_count": 46,
   "metadata": {},
   "outputs": [
    {
     "data": {
      "text/plain": [
       "6.760666636091124"
      ]
     },
     "execution_count": 46,
     "metadata": {},
     "output_type": "execute_result"
    }
   ],
   "source": [
    "x"
   ]
  },
  {
   "cell_type": "code",
   "execution_count": 47,
   "metadata": {},
   "outputs": [
    {
     "data": {
      "text/plain": [
       "2.4461251900787455"
      ]
     },
     "execution_count": 47,
     "metadata": {},
     "output_type": "execute_result"
    }
   ],
   "source": [
    "y"
   ]
  },
  {
   "cell_type": "code",
   "execution_count": null,
   "metadata": {},
   "outputs": [],
   "source": []
  }
 ],
 "metadata": {
  "kernelspec": {
   "display_name": "Python 3",
   "language": "python",
   "name": "python3"
  },
  "language_info": {
   "codemirror_mode": {
    "name": "ipython",
    "version": 3
   },
   "file_extension": ".py",
   "mimetype": "text/x-python",
   "name": "python",
   "nbconvert_exporter": "python",
   "pygments_lexer": "ipython3",
   "version": "3.8.5"
  }
 },
 "nbformat": 4,
 "nbformat_minor": 4
}
