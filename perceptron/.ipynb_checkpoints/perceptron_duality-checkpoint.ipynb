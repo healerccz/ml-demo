{
 "cells": [
  {
   "cell_type": "code",
   "execution_count": 2,
   "metadata": {},
   "outputs": [],
   "source": [
    "\"\"\"\n",
    "@description: 感知机对偶实现\n",
    "@author: Zhao Chengcheng\n",
    "@date: 2020-11-2 9:38\n",
    "\"\"\"\n",
    "import numpy as np\n",
    "import matplotlib as plt"
   ]
  },
  {
   "cell_type": "code",
   "execution_count": 13,
   "metadata": {},
   "outputs": [],
   "source": [
    "def get_data(num):\n",
    "    data = [] # 数据\n",
    "    label = [] # 标签\n",
    "    x1 = np.random.normal(2, 0.8, num) # 反例\n",
    "    x2 = np.random.normal(6, 0.8, num) # 正例\n",
    "    for i in range(0, num, 2):\n",
    "        data.append([x1[i], x1[i + 1]])\n",
    "        label.append(-1)\n",
    "        data.append([x2[i], x2[i + 1]])\n",
    "        label.append(1)\n",
    "    return data, label"
   ]
  },
  {
   "cell_type": "code",
   "execution_count": 14,
   "metadata": {},
   "outputs": [
    {
     "name": "stdout",
     "output_type": "stream",
     "text": [
      "([[2.876502471745889, 0.8872034253105536], [7.044715345693397, 5.099283922164183]], [-1, 1])\n"
     ]
    }
   ],
   "source": [
    "print(get_data(4))"
   ]
  },
  {
   "cell_type": "code",
   "execution_count": null,
   "metadata": {},
   "outputs": [],
   "source": [
    "def perceptron_duality(data, label)"
   ]
  }
 ],
 "metadata": {
  "kernelspec": {
   "display_name": "Python 3",
   "language": "python",
   "name": "python3"
  },
  "language_info": {
   "codemirror_mode": {
    "name": "ipython",
    "version": 3
   },
   "file_extension": ".py",
   "mimetype": "text/x-python",
   "name": "python",
   "nbconvert_exporter": "python",
   "pygments_lexer": "ipython3",
   "version": "3.8.5"
  }
 },
 "nbformat": 4,
 "nbformat_minor": 4
}
