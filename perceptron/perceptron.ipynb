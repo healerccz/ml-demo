{
 "cells": [
  {
   "cell_type": "code",
   "execution_count": 50,
   "metadata": {
    "scrolled": false
   },
   "outputs": [],
   "source": [
    "\"\"\"\n",
    "perceptron\n",
    "@author: Zhao Chengcheng\n",
    "@stu_id: 3120305365\n",
    "\"\"\"\n",
    "\n",
    "import numpy as np\n",
    "import matplotlib.pyplot as plt\n",
    "\n",
    "\n",
    "def get_data(num):\n",
    "    \"\"\"\n",
    "    随机生成数据\n",
    "    @param num: 数据条数\n",
    "    @return: 生成的数据， data 是点的坐标，label是每个点的标签，为：-1 或 +1\n",
    "    \"\"\"\n",
    "    data = [] # 存放随机生成的坐标 Xn\n",
    "    label = [] # 存放数据的标签， -1 或者 +1\n",
    "    x1 = np.random.normal(2, 0.8, int(num / 2))\n",
    "    y1 = np.random.normal(2, 0.8, int(num / 2))\n",
    "    x2 = np.random.normal(6, 0.8, int(num / 2))\n",
    "    y2 = np.random.normal(6, 0.8, int(num / 2))\n",
    "    for i in range(num):\n",
    "        if i < num / 2:\n",
    "            data.append([x1[i], y1[i]])\n",
    "            label.append(-1)\n",
    "        else:\n",
    "            data.append([x2[int(i - num / 2)], y2[int(i - num / 2)]])\n",
    "            label.append(1)\n",
    "    return data, label\n",
    "\n",
    "\n",
    "def perceptron(data, label, eta):\n",
    "    \"\"\"\n",
    "    训练感知机\n",
    "    @param data: 包含坐标的数据\n",
    "    @param label: 数据的标签 -1 或者 +1\n",
    "    @param eta: 学习率\n",
    "    @return: 超平面的参数，x 是横截距，y是纵截距\n",
    "    \"\"\"\n",
    "    w = [0., 1.0] # 直线 x 和 y 的系数\n",
    "    b = 0.\n",
    "    separated = False # 标记是否已将点完全分离\n",
    "    while not separated:\n",
    "        separated = True\n",
    "        for i in range(len(data)):\n",
    "            if label[i] * (w[0] * data[i][0] + w[1] * data[i][1] + b) <= 0:\n",
    "                separated = False # 没有完全分离\n",
    "                w[0] += eta * label[i] * data[i][0] # 更新 w 的值\n",
    "                w[1] += eta * label[i] * data[i][1]\n",
    "                b += eta * label[i] # 更新 b 的值\n",
    "\n",
    "    x = -b / w[0]\n",
    "    y = -b / w[1]\n",
    "    return x, y, w[0], w[1], b\n",
    "\n",
    "\n",
    "def plot(data, label, x, y): # 画图\n",
    "    plt.rcParams['font.sans-serif'] = ['SimHei'] # 设置字体\n",
    "    plt.rcParams['axes.unicode_minus'] = False\n",
    "\n",
    "    plt.xlabel('X')\n",
    "    plt.ylabel('Y')\n",
    "    plt.xlim(xmax=9, xmin=0)\n",
    "    plt.ylim(ymax=9, ymin=0)\n",
    "    area = np.pi * 2 ** 2\n",
    "\n",
    "    data_mat = np.array(data)\n",
    "    X = data_mat[:, 0]\n",
    "    Y = data_mat[:, 1]\n",
    "    for i in range(len(label)):\n",
    "        if label[i] > 0:\n",
    "            plt.scatter(X[i].tolist(), Y[i].tolist(), s=area, color='red')\n",
    "        else:\n",
    "            plt.scatter(X[i].tolist(), Y[i].tolist(), s=area, color='green')\n",
    "    plt.plot([0, x], [y, 0])\n",
    "    plt.show()\n",
    "\n",
    "\n",
    "\n",
    "\n",
    "\n"
   ]
  },
  {
   "cell_type": "code",
   "execution_count": 61,
   "metadata": {},
   "outputs": [],
   "source": [
    "data, label = get_data(100) # 随机生成数据，参数为要生成的数据条数\n"
   ]
  },
  {
   "cell_type": "code",
   "execution_count": 62,
   "metadata": {},
   "outputs": [
    {
     "data": {
      "image/png": "[encoded data removed]",
      "text/plain": [
       "<Figure size 432x288 with 1 Axes>"
      ]
     },
     "metadata": {
      "needs_background": "light"
     },
     "output_type": "display_data"
    }
   ],
   "source": [
    "x, y, w0, w1, b = perceptron(data, label, 0.01) # 训练感知机，获得超平面参数，x:横截距，y：纵截距\n",
    "plot(data, label, x, y)"
   ]
  },
  {
   "cell_type": "code",
   "execution_count": 63,
   "metadata": {},
   "outputs": [
    {
     "data": {
      "text/plain": [
       "[[2.7169858607438733, 0.6578934472090285],\n",
       " [1.5421855057281708, 3.063465056002728],\n",
       " [2.014233015578373, 2.9417643576161545],\n",
       " [1.2948367537885521, 1.6182416512842488],\n",
       " [2.2180885588085877, 1.3617280835548162],\n",
       " [3.0325533100785043, 2.897333274995904],\n",
       " [1.417386385495369, 2.1845460296811665],\n",
       " [1.3059477532425845, 0.9397774957323157],\n",
       " [2.1099690059014375, 2.0163800468149504],\n",
       " [1.8027200987291285, 2.4707877244195786],\n",
       " [0.8883089071075894, 2.830696376480231],\n",
       " [2.214782085837888, 1.5619588184971132],\n",
       " [1.6807339793944152, 3.899529378290998],\n",
       " [1.631915737321645, 1.1262463295937297],\n",
       " [1.678000244689926, 1.9424871649608755],\n",
       " [2.277797061108955, 3.4050138873718017],\n",
       " [1.5010574779851882, 1.8774017354355594],\n",
       " [3.394433034837617, 2.347666509455586],\n",
       " [2.273551761505069, 2.0808699250696296],\n",
       " [1.4596608469537644, 2.9809589973130177],\n",
       " [2.6236838878135473, 2.872819695138603],\n",
       " [2.054651114752606, 2.0421718272371603],\n",
       " [2.6318461475007724, 2.4430658171033213],\n",
       " [2.3790354136657688, 3.4258575202550703],\n",
       " [0.8544972155179189, 3.6015348372312905],\n",
       " [2.8425208166916254, 1.6124384988989606],\n",
       " [3.7792345974835637, 0.5611573585574883],\n",
       " [1.9107934249930516, 2.7451047984728727],\n",
       " [3.728596507996079, 1.0134598095997802],\n",
       " [2.751466748827854, 0.9345940641175443],\n",
       " [2.1699813286417013, 3.3009669274929485],\n",
       " [2.1369735370696867, 2.060542587890031],\n",
       " [2.2141450077557647, 1.8434835092640869],\n",
       " [3.0710387037646165, 2.6484889750884197],\n",
       " [1.6114276596385677, 1.8181286718994758],\n",
       " [2.01133712380487, 3.617326740487308],\n",
       " [0.8633316981337764, 1.8208734410515797],\n",
       " [2.709103785020293, 1.826837036537193],\n",
       " [0.17737636692013825, 1.8849928630579904],\n",
       " [4.461856076144981, 2.4196475176509833],\n",
       " [3.656498501285406, 2.6488562786035916],\n",
       " [2.257623610841749, 2.240297039369124],\n",
       " [2.864140355136221, 2.4881201988816084],\n",
       " [1.7062588548587643, 1.9179898168145755],\n",
       " [2.637031593542441, 1.6982101853895233],\n",
       " [1.9625944220682217, 1.346170077157805],\n",
       " [2.617920804447066, 0.41847603540678735],\n",
       " [2.2214114245228225, 1.389114629658152],\n",
       " [1.3841884448878607, 1.4850248753823119],\n",
       " [1.8193143032271013, 1.8445358391182083],\n",
       " [6.128878585280647, 7.011045603895485],\n",
       " [6.577408076849725, 5.819428016360367],\n",
       " [6.241613958645105, 6.241168078762038],\n",
       " [7.426922297714998, 6.179349921969737],\n",
       " [5.721390827366465, 5.842831007213142],\n",
       " [7.088433955882234, 5.847475893974359],\n",
       " [6.616022622815822, 6.520986904858325],\n",
       " [6.93995717415909, 4.410129530339926],\n",
       " [5.914915471195068, 5.80630559249319],\n",
       " [6.0550683096058595, 4.490363142393528],\n",
       " [5.081872586269675, 5.476690628028258],\n",
       " [5.872453352789849, 6.3772822996529115],\n",
       " [4.685401705108995, 5.824537039581953],\n",
       " [5.940914976216888, 6.053285763419235],\n",
       " [5.97317296290009, 6.523233019597141],\n",
       " [5.318682371412783, 7.269681064404403],\n",
       " [6.6364968407159735, 5.203613560089366],\n",
       " [6.318359925443005, 6.997563212849069],\n",
       " [4.801376394939479, 5.744264493154361],\n",
       " [5.680384939122291, 7.7143554194202375],\n",
       " [4.514018185817969, 5.78912816054581],\n",
       " [5.66850922279295, 6.521358426404564],\n",
       " [6.081564084144036, 6.27800987273421],\n",
       " [5.867431265897456, 6.271221889091612],\n",
       " [5.987387987429832, 5.895074566334344],\n",
       " [3.809634912052806, 6.692303215322289],\n",
       " [6.265870139886367, 5.386145818244708],\n",
       " [6.23363022108571, 5.8624457503497815],\n",
       " [7.660258554797846, 6.557134331872738],\n",
       " [5.787350565287535, 6.703331215411068],\n",
       " [5.995231440922712, 5.2156711640217],\n",
       " [6.836532656126814, 6.466491690037585],\n",
       " [6.781054989696816, 5.4280182727829835],\n",
       " [6.903190897607751, 5.72582046432988],\n",
       " [6.371938273754939, 5.438235401781925],\n",
       " [6.564068817664927, 6.130698169269096],\n",
       " [5.19826573935964, 6.13194088338302],\n",
       " [5.5052470683480745, 4.996731563200451],\n",
       " [5.855988771060364, 5.8455575022156],\n",
       " [7.023910191009952, 6.796479474029508],\n",
       " [6.141743676267581, 6.584517529822607],\n",
       " [5.640230204657708, 6.296725923939036],\n",
       " [5.163755167327659, 6.915145703795767],\n",
       " [6.616727945115506, 5.720977075563619],\n",
       " [6.6331635679292225, 5.034909365696677],\n",
       " [6.0254160254654785, 5.971881748992595],\n",
       " [6.470273160673955, 5.581480763919219],\n",
       " [6.925583768701534, 4.954401533614795],\n",
       " [5.1298149920149205, 6.029384102174991],\n",
       " [5.8854778881037735, 6.2673824433391365]]"
      ]
     },
     "execution_count": 63,
     "metadata": {},
     "output_type": "execute_result"
    }
   ],
   "source": [
    "data"
   ]
  },
  {
   "cell_type": "code",
   "execution_count": 64,
   "metadata": {},
   "outputs": [
    {
     "data": {
      "text/plain": [
       "0.008309539118750191"
      ]
     },
     "execution_count": 64,
     "metadata": {},
     "output_type": "execute_result"
    }
   ],
   "source": [
    "w0"
   ]
  },
  {
   "cell_type": "code",
   "execution_count": 65,
   "metadata": {},
   "outputs": [
    {
     "data": {
      "text/plain": [
       "0.10559824595545414"
      ]
     },
     "execution_count": 65,
     "metadata": {},
     "output_type": "execute_result"
    }
   ],
   "source": [
    "w1"
   ]
  },
  {
   "cell_type": "code",
   "execution_count": 56,
   "metadata": {},
   "outputs": [
    {
     "data": {
      "text/plain": [
       "-0.45000000000000023"
      ]
     },
     "execution_count": 56,
     "metadata": {},
     "output_type": "execute_result"
    }
   ],
   "source": [
    "b"
   ]
  },
  {
   "cell_type": "code",
   "execution_count": 57,
   "metadata": {},
   "outputs": [
    {
     "data": {
      "text/plain": [
       "[5.416984714352299, 6.729971460750625]"
      ]
     },
     "execution_count": 57,
     "metadata": {},
     "output_type": "execute_result"
    }
   ],
   "source": [
    "data[19]"
   ]
  },
  {
   "cell_type": "code",
   "execution_count": 58,
   "metadata": {},
   "outputs": [
    {
     "data": {
      "text/plain": [
       "0.27369965890508957"
      ]
     },
     "execution_count": 58,
     "metadata": {},
     "output_type": "execute_result"
    }
   ],
   "source": [
    "data[19][0]*w0+data[19][1]*w1+b"
   ]
  },
  {
   "cell_type": "code",
   "execution_count": 59,
   "metadata": {},
   "outputs": [
    {
     "data": {
      "text/plain": [
       "-982.9444068531602"
      ]
     },
     "execution_count": 59,
     "metadata": {},
     "output_type": "execute_result"
    }
   ],
   "source": [
    "x"
   ]
  },
  {
   "cell_type": "code",
   "execution_count": 60,
   "metadata": {},
   "outputs": [
    {
     "data": {
      "text/plain": [
       "4.170438224972205"
      ]
     },
     "execution_count": 60,
     "metadata": {},
     "output_type": "execute_result"
    }
   ],
   "source": [
    "y"
   ]
  },
  {
   "cell_type": "code",
   "execution_count": null,
   "metadata": {},
   "outputs": [],
   "source": []
  }
 ],
 "metadata": {
  "kernelspec": {
   "display_name": "Python 3",
   "language": "python",
   "name": "python3"
  },
  "language_info": {
   "codemirror_mode": {
    "name": "ipython",
    "version": 3
   },
   "file_extension": ".py",
   "mimetype": "text/x-python",
   "name": "python",
   "nbconvert_exporter": "python",
   "pygments_lexer": "ipython3",
   "version": "3.8.5"
  }
 },
 "nbformat": 4,
 "nbformat_minor": 4
}
